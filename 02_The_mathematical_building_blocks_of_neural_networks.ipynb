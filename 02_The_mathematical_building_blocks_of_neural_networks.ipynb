{
  "nbformat": 4,
  "nbformat_minor": 0,
  "metadata": {
    "colab": {
      "name": "02 - The mathematical building blocks of neural networks",
      "provenance": [],
      "toc_visible": true,
      "authorship_tag": "ABX9TyMHVu6Mnd7GPdJaiAGK9o91",
      "include_colab_link": true
    },
    "kernelspec": {
      "name": "python3",
      "display_name": "Python 3"
    }
  },
  "cells": [
    {
      "cell_type": "markdown",
      "metadata": {
        "id": "view-in-github",
        "colab_type": "text"
      },
      "source": [
        "<a href=\"https://colab.research.google.com/github/SchimeNo/Deep-Learning-with-Python/blob/main/02_The_mathematical_building_blocks_of_neural_networks.ipynb\" target=\"_parent\"><img src=\"https://colab.research.google.com/assets/colab-badge.svg\" alt=\"Open In Colab\"/></a>"
      ]
    },
    {
      "cell_type": "markdown",
      "metadata": {
        "id": "94b5S-442Brq"
      },
      "source": [
        "# **02 The mathematical building blocks of neural networks** \r\n",
        "---\r\n"
      ]
    },
    {
      "cell_type": "code",
      "metadata": {
        "id": "GgoHBAC9zlEJ"
      },
      "source": [
        "#!pip install keras\r\n",
        "from keras.datasets import mnist"
      ],
      "execution_count": null,
      "outputs": []
    },
    {
      "cell_type": "code",
      "metadata": {
        "id": "_-9eaKfSzXQ-",
        "colab": {
          "base_uri": "https://localhost:8080/"
        },
        "outputId": "5b0c3b4b-52a2-41dd-9f67-001ae2a34a7a"
      },
      "source": [
        "(train_images, train_labels), (test_images, test_labels) = mnist.load_data()"
      ],
      "execution_count": null,
      "outputs": [
        {
          "output_type": "stream",
          "text": [
            "Downloading data from https://storage.googleapis.com/tensorflow/tf-keras-datasets/mnist.npz\n",
            "11493376/11490434 [==============================] - 0s 0us/step\n"
          ],
          "name": "stdout"
        }
      ]
    },
    {
      "cell_type": "code",
      "metadata": {
        "colab": {
          "base_uri": "https://localhost:8080/"
        },
        "id": "6JyzFHif2JVa",
        "outputId": "1dea2991-b3a2-4034-942d-5fc2d1851988"
      },
      "source": [
        "print(\"Shape:\", train_images.shape,\"Length:\", len(train_labels),\"Array:\", train_labels,sep=\"\\n\")"
      ],
      "execution_count": null,
      "outputs": [
        {
          "output_type": "stream",
          "text": [
            "Shape:\n",
            "(60000, 28, 28)\n",
            "Length:\n",
            "60000\n",
            "Array:\n",
            "[5 0 4 ... 5 6 8]\n"
          ],
          "name": "stdout"
        }
      ]
    },
    {
      "cell_type": "code",
      "metadata": {
        "colab": {
          "base_uri": "https://localhost:8080/"
        },
        "id": "KovOxIa44VxN",
        "outputId": "54807bd4-2a99-46b6-c990-bc2433042535"
      },
      "source": [
        "print(\"Shape:\", test_images.shape,\"Length:\", len(test_labels),\"Array:\", test_labels,sep=\"\\n\")"
      ],
      "execution_count": null,
      "outputs": [
        {
          "output_type": "stream",
          "text": [
            "Shape:\n",
            "(10000, 28, 28)\n",
            "Length:\n",
            "10000\n",
            "Array:\n",
            "[7 2 1 ... 4 5 6]\n"
          ],
          "name": "stdout"
        }
      ]
    },
    {
      "cell_type": "markdown",
      "metadata": {
        "id": "HT9IBI70aAPt"
      },
      "source": [
        "## Network architecture\r\n",
        "\r\n",
        "**Loss function:**\r\n",
        "-  How the network will be able to measure its performance on\r\n",
        "the training data, and thus how it will be able to steer itself in the right direction.\r\n",
        "\r\n",
        "**Optimizer:**\r\n",
        "- The mechanism through which the network will update itself\r\n",
        "based on the data it sees and its loss function.\r\n",
        "\r\n",
        "**Metrics:**\r\n",
        "- Here, we’ll only care about accuracy (the fraction of the images that were correctly classified).\r\n",
        "\r\n"
      ]
    },
    {
      "cell_type": "code",
      "metadata": {
        "cellView": "code",
        "id": "Du4YyqXfaDHR"
      },
      "source": [
        "# Network architecture\n",
        "\n",
        "from keras import models\n",
        "from keras import layers\n",
        "\n",
        "network = models.Sequential()\n",
        "network.add(layers.Dense(512, activation='relu', input_shape=(28*28,)))\n",
        "network.add(layers.Dense(10, activation='softmax'))\n"
      ],
      "execution_count": null,
      "outputs": []
    },
    {
      "cell_type": "markdown",
      "metadata": {
        "id": "mGP-WrDM-EGO"
      },
      "source": [
        "### The compilation step (optimizer, loss, metric)"
      ]
    },
    {
      "cell_type": "code",
      "metadata": {
        "id": "oSbBV03W4VmP"
      },
      "source": [
        "network.compile(optimizer='rmsprop',\r\n",
        "                loss='categorical_crossentropy',\r\n",
        "                metrics=['accuracy'])"
      ],
      "execution_count": null,
      "outputs": []
    },
    {
      "cell_type": "markdown",
      "metadata": {
        "id": "1CdAkCKb_wFg"
      },
      "source": [
        "### Preparing the image data\r\n",
        "\r\n",
        "We’ll transform the data into a float32 array of shape (60000, 28 * 28) with values between 0 and 1\r\n"
      ]
    },
    {
      "cell_type": "code",
      "metadata": {
        "id": "_8Ard7QY_7zU"
      },
      "source": [
        "train_images = train_images.reshape((60000, 28*28))\r\n",
        "train_images = train_images.astype('float32')/255\r\n",
        "\r\n",
        "test_images = test_images.reshape((10000, 28 * 28))\r\n",
        "test_images = test_images.astype('float32') / 255"
      ],
      "execution_count": null,
      "outputs": []
    },
    {
      "cell_type": "markdown",
      "metadata": {
        "id": "VaqigZXzBfmC"
      },
      "source": [
        "### Preparing the labels"
      ]
    },
    {
      "cell_type": "code",
      "metadata": {
        "id": "cOM-sYnM_1Z4"
      },
      "source": [
        "from keras.utils import to_categorical\r\n",
        "\r\n",
        "train_labels = to_categorical(train_labels)\r\n",
        "test_labels = to_categorical(test_labels)"
      ],
      "execution_count": null,
      "outputs": []
    },
    {
      "cell_type": "markdown",
      "metadata": {
        "id": "pZ7uZr3WCMrB"
      },
      "source": [
        "###Train the network\r\n"
      ]
    },
    {
      "cell_type": "code",
      "metadata": {
        "colab": {
          "base_uri": "https://localhost:8080/"
        },
        "id": "ewmcqoFjBvkd",
        "outputId": "8be426fb-bcf5-4a29-aa3e-1a7613487749"
      },
      "source": [
        "network.fit(train_images, train_labels, epochs=5, batch_size=128)"
      ],
      "execution_count": null,
      "outputs": [
        {
          "output_type": "stream",
          "text": [
            "Epoch 1/5\n",
            "469/469 [==============================] - 5s 9ms/step - loss: 0.4253 - accuracy: 0.8782\n",
            "Epoch 2/5\n",
            "469/469 [==============================] - 4s 9ms/step - loss: 0.1139 - accuracy: 0.9659\n",
            "Epoch 3/5\n",
            "469/469 [==============================] - 4s 9ms/step - loss: 0.0703 - accuracy: 0.9785\n",
            "Epoch 4/5\n",
            "469/469 [==============================] - 5s 10ms/step - loss: 0.0483 - accuracy: 0.9845\n",
            "Epoch 5/5\n",
            "469/469 [==============================] - 4s 10ms/step - loss: 0.0361 - accuracy: 0.9895\n"
          ],
          "name": "stdout"
        },
        {
          "output_type": "execute_result",
          "data": {
            "text/plain": [
              "<tensorflow.python.keras.callbacks.History at 0x7fad56e6f0d0>"
            ]
          },
          "metadata": {
            "tags": []
          },
          "execution_count": 9
        }
      ]
    },
    {
      "cell_type": "markdown",
      "metadata": {
        "id": "eMwUHCz2E5eg"
      },
      "source": [
        "### Use on test set"
      ]
    },
    {
      "cell_type": "code",
      "metadata": {
        "colab": {
          "base_uri": "https://localhost:8080/"
        },
        "id": "Ta4RD_jVE5Sx",
        "outputId": "83f4b555-f792-4759-d2fa-c8078b805588"
      },
      "source": [
        "test_loss, test_acc = network.evaluate(test_images, test_labels)\r\n",
        "print('test_acc:', test_loss)"
      ],
      "execution_count": null,
      "outputs": [
        {
          "output_type": "stream",
          "text": [
            "313/313 [==============================] - 1s 2ms/step - loss: 0.0664 - accuracy: 0.9796\n",
            "test_acc: 0.06635305285453796\n"
          ],
          "name": "stdout"
        }
      ]
    },
    {
      "cell_type": "markdown",
      "metadata": {
        "id": "CJolVAgx5EOz"
      },
      "source": [
        "# Data representations for neural networks"
      ]
    },
    {
      "cell_type": "markdown",
      "metadata": {
        "id": "UFcBo8tOCSVg"
      },
      "source": [
        "### Tensors\r\n",
        "\r\n",
        "Data stored in multidimensional Numpy arrays. It's a container for data—almost always numerical data. So, it’s a\r\n",
        "container for numbers. You may be already familiar with matrices, which are 2D tensors: tensors are a generalization of matrices to an arbitrary number of dimensions\r\n",
        "(note that in the context of tensors, a dimension is often called an axis).\r\n"
      ]
    },
    {
      "cell_type": "markdown",
      "metadata": {
        "id": "nS4KP4o4E6qq"
      },
      "source": [
        "\r\n",
        "#### Scalars (0D tensors)\r\n",
        "A tensor that contains only one number is called a scalar"
      ]
    },
    {
      "cell_type": "code",
      "metadata": {
        "id": "ZXKgXLgCCi8d",
        "colab": {
          "base_uri": "https://localhost:8080/"
        },
        "outputId": "4bee9cd7-4e6e-4f1a-d3be-a2d3d45f4d3e"
      },
      "source": [
        "import numpy as np\r\n",
        "x=np.array(12)\r\n",
        "print(x,\"\\ndim:\", x.ndim)"
      ],
      "execution_count": null,
      "outputs": [
        {
          "output_type": "stream",
          "text": [
            "12 \n",
            "dim: 0\n"
          ],
          "name": "stdout"
        }
      ]
    },
    {
      "cell_type": "markdown",
      "metadata": {
        "id": "s6AmED6KEoo5"
      },
      "source": [
        "#### Vectors"
      ]
    },
    {
      "cell_type": "code",
      "metadata": {
        "id": "4xwafhMUDSbi",
        "colab": {
          "base_uri": "https://localhost:8080/"
        },
        "outputId": "0225695b-9933-434c-af3a-3da5fad908c4"
      },
      "source": [
        "x = np.array([12, 3, 6, 14])\r\n",
        "print(x,\"\\ndim:\", x.ndim)"
      ],
      "execution_count": 16,
      "outputs": [
        {
          "output_type": "stream",
          "text": [
            "[12  3  6 14] \n",
            "dim: 1\n"
          ],
          "name": "stdout"
        }
      ]
    },
    {
      "cell_type": "markdown",
      "metadata": {
        "id": "SRik8O2wFyWU"
      },
      "source": [
        "#### Matrices (2D tensors)"
      ]
    },
    {
      "cell_type": "code",
      "metadata": {
        "id": "i2EIVVR0FXl2"
      },
      "source": [
        ""
      ],
      "execution_count": 16,
      "outputs": []
    }
  ]
}